{
 "cells": [
  {
   "cell_type": "markdown",
   "id": "05e74925",
   "metadata": {},
   "source": [
    "### Steps to build a neural network using Numpy\n",
    "\n",
    "1. Loading the dataset\n",
    "2. Defining the architecture (number of inputs, hidden and output neurons)\n",
    "3. Initializing the weights for all the layers\n",
    "4. Implementing forward propagation\n",
    "5. Implementing backward propagation\n",
    "6. Run the model for n epochs\n",
    "\n",
    "#### 1. Loading the dataset"
   ]
  },
  {
   "cell_type": "code",
   "execution_count": 1,
   "id": "ca9b4885",
   "metadata": {},
   "outputs": [],
   "source": [
    "import numpy as np\n",
    "import matplotlib.pyplot as plt\n",
    "%matplotlib inline"
   ]
  },
  {
   "cell_type": "code",
   "execution_count": 2,
   "id": "4d978e54",
   "metadata": {},
   "outputs": [
    {
     "name": "stdout",
     "output_type": "stream",
     "text": [
      "Version of Numpy is : 1.24.3\n"
     ]
    }
   ],
   "source": [
    "#version of numpy\n",
    "print(\"Version of Numpy is :\", np.__version__)"
   ]
  },
  {
   "cell_type": "code",
   "execution_count": 3,
   "id": "08b62300",
   "metadata": {},
   "outputs": [
    {
     "name": "stdout",
     "output_type": "stream",
     "text": [
      "\n",
      " Input:\n",
      "[[1 0 1 0]\n",
      " [1 0 1 1]\n",
      " [0 1 0 1]]\n"
     ]
    }
   ],
   "source": [
    "#creating the input array\n",
    "X= np.array([[1,0,1,0],[1,0,1,1], [0,1,0,1]])\n",
    "print('\\n Input:')\n",
    "print(X)"
   ]
  },
  {
   "cell_type": "code",
   "execution_count": 4,
   "id": "d2f9ba65",
   "metadata": {},
   "outputs": [
    {
     "name": "stdout",
     "output_type": "stream",
     "text": [
      "\n",
      " Shape of input is : (3, 4)\n"
     ]
    }
   ],
   "source": [
    "#shape of input array\n",
    "print('\\n Shape of input is :', X.shape)"
   ]
  },
  {
   "cell_type": "code",
   "execution_count": 5,
   "id": "b86c22e2",
   "metadata": {},
   "outputs": [
    {
     "name": "stdout",
     "output_type": "stream",
     "text": [
      "\n",
      " Input in matrix form:\n",
      "[[1 1 0]\n",
      " [0 0 1]\n",
      " [1 1 0]\n",
      " [0 1 1]]\n",
      "\n",
      " Shape of input in matrix form is : (4, 3)\n"
     ]
    }
   ],
   "source": [
    "#converting the input in matrix form\n",
    "X= X.T\n",
    "print('\\n Input in matrix form:')\n",
    "print(X)\n",
    "print('\\n Shape of input in matrix form is :', X.shape)"
   ]
  },
  {
   "cell_type": "code",
   "execution_count": 6,
   "id": "188b4ff6",
   "metadata": {},
   "outputs": [
    {
     "name": "stdout",
     "output_type": "stream",
     "text": [
      "\n",
      " Actual output:\n",
      "[[1]\n",
      " [1]\n",
      " [0]]\n",
      "\n",
      " Shape of output is : (3, 1)\n"
     ]
    }
   ],
   "source": [
    "# creating the output array\n",
    "y= np.array([[1],[1],[0]])\n",
    "print('\\n Actual output:')\n",
    "print(y)\n",
    "print('\\n Shape of output is :', y.shape)"
   ]
  },
  {
   "cell_type": "code",
   "execution_count": 7,
   "id": "ec08c792",
   "metadata": {},
   "outputs": [
    {
     "name": "stdout",
     "output_type": "stream",
     "text": [
      "\n",
      " Actual output in matrix form:\n",
      "[[1 1 0]]\n",
      "\n",
      " Shape of actual output in matrix form is : (1, 3)\n"
     ]
    }
   ],
   "source": [
    "#converting the output in matrix form\n",
    "y= y.T\n",
    "print('\\n Actual output in matrix form:')\n",
    "print(y)\n",
    "print('\\n Shape of actual output in matrix form is :', y.shape)"
   ]
  },
  {
   "cell_type": "markdown",
   "id": "7e8b96f8",
   "metadata": {},
   "source": [
    "#### 2. Defining model architecture \n",
    "\n",
    "\n",
    "For simplicity, we will just have 1 hidden layer"
   ]
  },
  {
   "cell_type": "code",
   "execution_count": 8,
   "id": "b0b2cc49",
   "metadata": {},
   "outputs": [],
   "source": [
    "inputlayer_neurons= X.shape[0] #number of input layer neurons= number of features\n",
    "hiddenlayer_neurons= 3 #number of hidden layer neurons arbitrarily chosen as 3\n",
    "output_neurons= 1 #number of neurons in output layer=1 since this is a binary classification"
   ]
  },
  {
   "cell_type": "markdown",
   "id": "d516d533",
   "metadata": {},
   "source": [
    "#### 3. Initializing the weights"
   ]
  },
  {
   "cell_type": "markdown",
   "id": "37ba11b9",
   "metadata": {},
   "source": [
    "So we have 4 neurons in the input layer and 3 neurons in the hidden layer. So the shape of the weights matrix from input to the hidden layer will be __4 X 3__.\n",
    "\n",
    "For simplicity, we are assuming the bias for all the layers is 0."
   ]
  },
  {
   "cell_type": "code",
   "execution_count": 9,
   "id": "152706fd",
   "metadata": {},
   "outputs": [],
   "source": [
    "#initializing weights from input to hidden layer and from hidden layer to output layer\n",
    "#the shape of w_ih is number of neurons at input x number of neurons at hidden layer\n",
    "w_ih= np.random.uniform(size= (inputlayer_neurons,hiddenlayer_neurons))\n",
    "\n",
    "#the shape of w_ho is number of neurons at hidden layer x number of neurons in output layer\n",
    "\n",
    "w_ho= np.random.uniform(size= (hiddenlayer_neurons, output_neurons))"
   ]
  },
  {
   "cell_type": "code",
   "execution_count": 10,
   "id": "021d84fb",
   "metadata": {},
   "outputs": [
    {
     "name": "stdout",
     "output_type": "stream",
     "text": [
      "\n",
      " Shape of weight matrix from input to hidden layer is : (4, 3)\n",
      "\n",
      " Shape of weight matrix from hidden layer to output is : (3, 1)\n"
     ]
    }
   ],
   "source": [
    "#shape of weight matrices\n",
    "\n",
    "print('\\n Shape of weight matrix from input to hidden layer is :', w_ih.shape)\n",
    "print('\\n Shape of weight matrix from hidden layer to output is :', w_ho.shape)"
   ]
  },
  {
   "cell_type": "markdown",
   "id": "4adf82c1",
   "metadata": {},
   "source": [
    "#### 4. Implementing Forward Propagation \n",
    "\n",
    "We will be using sigmoid as the activation function"
   ]
  },
  {
   "cell_type": "code",
   "execution_count": 11,
   "id": "0bdd27ee",
   "metadata": {},
   "outputs": [],
   "source": [
    "#defining the sigmoid activation function\n",
    "def sigmoid(x):\n",
    "    return 1/(1+ np.exp(-x))"
   ]
  },
  {
   "cell_type": "code",
   "execution_count": 12,
   "id": "063f2b44",
   "metadata": {},
   "outputs": [],
   "source": [
    "#hidden layer activation: Multiplying the weights with inputs\n",
    "\n",
    "hidden_layer_input= np.dot(w_ih.T,X) #W(Transpose)*X\n",
    "hidden_layer_activations= sigmoid(hidden_layer_input)\n"
   ]
  },
  {
   "cell_type": "code",
   "execution_count": 13,
   "id": "5896d02c",
   "metadata": {},
   "outputs": [],
   "source": [
    "#calculating output: Multiplying the weights and the hidden layer activations\n",
    "\n",
    "output_layer_input= np.dot(w_ho.T, hidden_layer_activations)\n",
    "output= sigmoid(output_layer_input)"
   ]
  },
  {
   "cell_type": "code",
   "execution_count": 14,
   "id": "36fa830e",
   "metadata": {},
   "outputs": [
    {
     "data": {
      "text/plain": [
       "array([[0.7234586 , 0.73160898, 0.69627291]])"
      ]
     },
     "execution_count": 14,
     "metadata": {},
     "output_type": "execute_result"
    }
   ],
   "source": [
    "output"
   ]
  },
  {
   "cell_type": "markdown",
   "id": "262bffc2",
   "metadata": {},
   "source": [
    "#### 5. Implementing Backward Propagation"
   ]
  },
  {
   "cell_type": "code",
   "execution_count": 15,
   "id": "d765632c",
   "metadata": {},
   "outputs": [],
   "source": [
    "#calculating error\n",
    "error= np.square(y-output)/2"
   ]
  },
  {
   "cell_type": "markdown",
   "id": "1fe54ece",
   "metadata": {},
   "source": [
    "Now we need to calculate the rate of change of error w.r.t weights between hidden and output layer.\n",
    "In order to calculate this, we need the following.\n",
    "\n",
    "a. Rate of change of error w.r.t output \\\n",
    "b. Rate of change of output w.r.t Z2 \\\n",
    "c. Rate of change of Z2 w.r.t weights between hidden and output layer"
   ]
  },
  {
   "cell_type": "code",
   "execution_count": 16,
   "id": "69a330c2",
   "metadata": {},
   "outputs": [
    {
     "data": {
      "text/plain": [
       "((1, 3), (1, 3), (3, 3))"
      ]
     },
     "execution_count": 16,
     "metadata": {},
     "output_type": "execute_result"
    }
   ],
   "source": [
    "#rate of change of error w.r.t output\n",
    "error_wrt_output= -(y-output)\n",
    "\n",
    "#rate of change of output w.r.t Z2\n",
    "output_wrt_z2= np.multiply(output, (1-output))\n",
    "\n",
    "#rate of change of Z2 w.r.t weights between hidden layer and output layer\n",
    "z2_wrt_who= hidden_layer_activations\n",
    "\n",
    "#checking the shapes of partial derivatives\n",
    "error_wrt_output.shape, output_wrt_z2.shape, z2_wrt_who.shape"
   ]
  },
  {
   "cell_type": "code",
   "execution_count": 17,
   "id": "c88aa7cc",
   "metadata": {},
   "outputs": [
    {
     "data": {
      "text/plain": [
       "(3, 1)"
      ]
     },
     "execution_count": 17,
     "metadata": {},
     "output_type": "execute_result"
    }
   ],
   "source": [
    "#shape of weights of output layer. \n",
    "w_ho.shape"
   ]
  },
  {
   "cell_type": "markdown",
   "id": "140bf257",
   "metadata": {},
   "source": [
    "The final shape of the matrix representing rate of change of error w.r.t weights should be same as w_ho.shape which is (3,1)"
   ]
  },
  {
   "cell_type": "code",
   "execution_count": 18,
   "id": "790ae085",
   "metadata": {},
   "outputs": [
    {
     "data": {
      "text/plain": [
       "(3, 1)"
      ]
     },
     "execution_count": 18,
     "metadata": {},
     "output_type": "execute_result"
    }
   ],
   "source": [
    "error_wrt_who= np.dot(z2_wrt_who, (error_wrt_output*output_wrt_z2).T)\n",
    "error_wrt_who.shape"
   ]
  },
  {
   "cell_type": "markdown",
   "id": "f01d8064",
   "metadata": {},
   "source": [
    "Next, we need to calculate the rate of change of error w.r.t weight between input and hidden layer.\n",
    "\n",
    "a. Rate of change of error w.r.t output \\\n",
    "b. Rate of change of output w.r.t Z2 \\\n",
    "c. Rate of change of Z2 w.r.t hidden layer activations \\\n",
    "d. Rate of change of hidden layer activations w.r.t Z1 \\\n",
    "e. Rate of change of Z1 w.r.t weights between input and hidden layer"
   ]
  },
  {
   "cell_type": "code",
   "execution_count": 19,
   "id": "912a53fe",
   "metadata": {},
   "outputs": [],
   "source": [
    "#rate of change of z2 w.r.t hidden layer activations\n",
    "z2_wrt_h1= w_ho\n",
    "\n",
    "#rate of change of hidden layer activations w.r.t Z1\n",
    "h1_wrt_Z1= np.multiply(hidden_layer_activations, (1-hidden_layer_activations))\n",
    "\n",
    "#rate of change of Z1 w.r.t weights between input and hidden layer\n",
    "z1_wrt_wih= X"
   ]
  },
  {
   "cell_type": "code",
   "execution_count": 20,
   "id": "03825c87",
   "metadata": {},
   "outputs": [
    {
     "data": {
      "text/plain": [
       "((1, 3), (1, 3), (3, 1), (3, 3), (4, 3))"
      ]
     },
     "execution_count": 20,
     "metadata": {},
     "output_type": "execute_result"
    }
   ],
   "source": [
    "#Checking shapes of the partial derivatives\n",
    "error_wrt_output.shape, output_wrt_z2.shape,z2_wrt_h1.shape,h1_wrt_Z1.shape, z1_wrt_wih.shape"
   ]
  },
  {
   "cell_type": "code",
   "execution_count": 21,
   "id": "f342124f",
   "metadata": {},
   "outputs": [
    {
     "data": {
      "text/plain": [
       "(4, 3)"
      ]
     },
     "execution_count": 21,
     "metadata": {},
     "output_type": "execute_result"
    }
   ],
   "source": [
    "#shape of weights of input to hidden layer\n",
    "w_ih.shape"
   ]
  },
  {
   "cell_type": "code",
   "execution_count": 22,
   "id": "a19cc1e6",
   "metadata": {},
   "outputs": [],
   "source": [
    "#rate of change of error w.r.t weights between input and hidden layer\n",
    "error_wrt_wih= np.dot(z1_wrt_wih,(h1_wrt_Z1*np.dot(z2_wrt_h1,(error_wrt_output*output_wrt_z2))).T)"
   ]
  },
  {
   "cell_type": "code",
   "execution_count": 23,
   "id": "b818847e",
   "metadata": {},
   "outputs": [
    {
     "data": {
      "text/plain": [
       "(4, 3)"
      ]
     },
     "execution_count": 23,
     "metadata": {},
     "output_type": "execute_result"
    }
   ],
   "source": [
    "error_wrt_wih.shape"
   ]
  },
  {
   "cell_type": "markdown",
   "id": "6566c504",
   "metadata": {},
   "source": [
    "#### Updating parameters"
   ]
  },
  {
   "cell_type": "code",
   "execution_count": 24,
   "id": "b1607fd4",
   "metadata": {},
   "outputs": [
    {
     "data": {
      "text/plain": [
       "(array([[0.64996043],\n",
       "        [0.51388979],\n",
       "        [0.07993118]]),\n",
       " array([[0.57094973, 0.53586618, 0.66892688],\n",
       "        [0.66610122, 0.24952131, 0.63575565],\n",
       "        [0.68488942, 0.64506294, 0.61739924],\n",
       "        [0.06600101, 0.3833463 , 0.1597753 ]]))"
      ]
     },
     "execution_count": 24,
     "metadata": {},
     "output_type": "execute_result"
    }
   ],
   "source": [
    "#defining the learning rate\n",
    "lr= 0.01\n",
    "\n",
    "#initial w_ho and w_ih\n",
    "w_ho, w_ih"
   ]
  },
  {
   "cell_type": "code",
   "execution_count": 25,
   "id": "43f88b10",
   "metadata": {},
   "outputs": [],
   "source": [
    "w_ho= w_ho- lr* error_wrt_who\n",
    "\n",
    "w_ih= w_ih- lr*error_wrt_wih"
   ]
  },
  {
   "cell_type": "code",
   "execution_count": 26,
   "id": "8def52ab",
   "metadata": {},
   "outputs": [
    {
     "data": {
      "text/plain": [
       "array([[0.64981281],\n",
       "       [0.5137872 ],\n",
       "       [0.07977668]])"
      ]
     },
     "execution_count": 26,
     "metadata": {},
     "output_type": "execute_result"
    }
   ],
   "source": [
    "w_ho"
   ]
  },
  {
   "cell_type": "code",
   "execution_count": 27,
   "id": "bec1197a",
   "metadata": {},
   "outputs": [
    {
     "data": {
      "text/plain": [
       "array([[0.57106871, 0.53595603, 0.66894088],\n",
       "       [0.66589136, 0.24934989, 0.63573043],\n",
       "       [0.6850084 , 0.64515279, 0.61741324],\n",
       "       [0.06584807, 0.38321362, 0.15975658]])"
      ]
     },
     "execution_count": 27,
     "metadata": {},
     "output_type": "execute_result"
    }
   ],
   "source": [
    "w_ih"
   ]
  },
  {
   "cell_type": "markdown",
   "id": "e59098c4",
   "metadata": {},
   "source": [
    "The weight values have been updated. This completes one epoch of our training."
   ]
  },
  {
   "cell_type": "markdown",
   "id": "889b16b6",
   "metadata": {},
   "source": [
    "#### 6. Run the model for n epochs"
   ]
  },
  {
   "cell_type": "code",
   "execution_count": 28,
   "id": "07efb8fc",
   "metadata": {},
   "outputs": [],
   "source": [
    "#defining model architecture\n",
    "inputlayer_neurons= X.shape[0] #number of input layer neurons= number of features\n",
    "hiddenlayer_neurons= 3 #number of hidden layer neurons arbitrarily chosen as 3\n",
    "output_neurons= 1 #number of neurons in output layer=1 since this is a binary classification"
   ]
  },
  {
   "cell_type": "code",
   "execution_count": 29,
   "id": "6dbe01bb",
   "metadata": {},
   "outputs": [],
   "source": [
    "#Initializing weights\n",
    "w_ih= np.random.uniform(size= (inputlayer_neurons,hiddenlayer_neurons))\n",
    "w_oh= np.random.uniform(size= (hiddenlayer_neurons,output_neurons))"
   ]
  },
  {
   "cell_type": "code",
   "execution_count": 30,
   "id": "5724dbac",
   "metadata": {},
   "outputs": [],
   "source": [
    "#defining the model parameters\n",
    "lr= 0.01\n",
    "epochs= 10000"
   ]
  },
  {
   "cell_type": "code",
   "execution_count": 31,
   "id": "b387a417",
   "metadata": {},
   "outputs": [
    {
     "data": {
      "text/plain": [
       "array([[0.46611722, 0.50344157, 0.26431064],\n",
       "       [0.90182659, 0.38426831, 0.76935279],\n",
       "       [0.66208263, 0.73193304, 0.83036647],\n",
       "       [0.79155548, 0.94633251, 0.35273716]])"
      ]
     },
     "execution_count": 31,
     "metadata": {},
     "output_type": "execute_result"
    }
   ],
   "source": [
    "#initial w_ih\n",
    "w_ih"
   ]
  },
  {
   "cell_type": "code",
   "execution_count": 32,
   "id": "93131ef1",
   "metadata": {},
   "outputs": [
    {
     "data": {
      "text/plain": [
       "array([[0.49888221],\n",
       "       [0.46641259],\n",
       "       [0.69504591]])"
      ]
     },
     "execution_count": 32,
     "metadata": {},
     "output_type": "execute_result"
    }
   ],
   "source": [
    "#initial w_oh\n",
    "w_oh"
   ]
  },
  {
   "cell_type": "code",
   "execution_count": 33,
   "id": "6cbcfb10",
   "metadata": {},
   "outputs": [],
   "source": [
    "error_epoch= []\n",
    "for i in range(epochs):\n",
    "    \n",
    "    #forward propagation\n",
    "    \n",
    "    #hidden layer activations\n",
    "    hidden_layer_input= np.dot(w_ih.T,X) #W(Transpose)*X\n",
    "    hidden_layer_activations= sigmoid(hidden_layer_input)\n",
    "    \n",
    "    #calculating the output\n",
    "    output_layer_input= np.dot(w_ho.T, hidden_layer_activations)\n",
    "    output= sigmoid(output_layer_input)\n",
    "    \n",
    "    #backward propagation\n",
    "    \n",
    "    #calculating the error\n",
    "    error= np.square(y-output)/2\n",
    "    error_wrt_output= -(y-output)\n",
    "    output_wrt_z2= np.multiply(output, (1-output))\n",
    "    z2_wrt_who= hidden_layer_activations\n",
    "    #rate of change of error w.r.t weight between hidden and output layer\n",
    "    error_wrt_who= np.dot(z2_wrt_who, (error_wrt_output*output_wrt_z2).T)\n",
    "    \n",
    "    z2_wrt_h1= w_ho\n",
    "    h1_wrt_Z1= np.multiply(hidden_layer_activations, (1-hidden_layer_activations))\n",
    "    z1_wrt_wih= X\n",
    "    #rate of change of error w.r.t weight between input and hidden layer\n",
    "    error_wrt_wih= np.dot(z1_wrt_wih,(h1_wrt_Z1*np.dot(z2_wrt_h1,(error_wrt_output*output_wrt_z2))).T)\n",
    "    \n",
    "    w_ho= w_ho- lr* error_wrt_who\n",
    "    w_ih= w_ih- lr*error_wrt_wih\n",
    "    \n",
    "    error_epoch.append(np.average(error))"
   ]
  },
  {
   "cell_type": "code",
   "execution_count": 34,
   "id": "73716bca",
   "metadata": {},
   "outputs": [
    {
     "data": {
      "text/plain": [
       "array([[ 0.92054245,  1.36252332, -0.71136458],\n",
       "       [-0.02194797, -1.67310105,  1.55558729],\n",
       "       [ 1.11650787,  1.5910148 , -0.14530875],\n",
       "       [ 0.05670768, -0.6666213 ,  0.59326131]])"
      ]
     },
     "execution_count": 34,
     "metadata": {},
     "output_type": "execute_result"
    }
   ],
   "source": [
    "w_ih"
   ]
  },
  {
   "cell_type": "code",
   "execution_count": 35,
   "id": "28f17602",
   "metadata": {},
   "outputs": [
    {
     "data": {
      "text/plain": [
       "array([[0.49888221],\n",
       "       [0.46641259],\n",
       "       [0.69504591]])"
      ]
     },
     "execution_count": 35,
     "metadata": {},
     "output_type": "execute_result"
    }
   ],
   "source": [
    "w_oh"
   ]
  },
  {
   "cell_type": "code",
   "execution_count": 36,
   "id": "90b25556",
   "metadata": {},
   "outputs": [
    {
     "data": {
      "text/plain": [
       "[<matplotlib.lines.Line2D at 0x11a53b4d0>]"
      ]
     },
     "execution_count": 36,
     "metadata": {},
     "output_type": "execute_result"
    },
    {
     "data": {
      "image/png": "[encoded data removed]",
      "text/plain": [
       "<Figure size 640x480 with 1 Axes>"
      ]
     },
     "metadata": {},
     "output_type": "display_data"
    }
   ],
   "source": [
    "#visualizing the error after each epoch\n",
    "plt.plot(np.arange(1,epochs+1), np.array(error_epoch))"
   ]
  },
  {
   "cell_type": "code",
   "execution_count": 37,
   "id": "0a4546df",
   "metadata": {},
   "outputs": [
    {
     "data": {
      "text/plain": [
       "array([[0.923978  , 0.88792186, 0.17971554]])"
      ]
     },
     "execution_count": 37,
     "metadata": {},
     "output_type": "execute_result"
    }
   ],
   "source": [
    "#final output from the model\n",
    "output"
   ]
  },
  {
   "cell_type": "code",
   "execution_count": 38,
   "id": "a9c93482",
   "metadata": {},
   "outputs": [
    {
     "data": {
      "text/plain": [
       "array([[1, 1, 0]])"
      ]
     },
     "execution_count": 38,
     "metadata": {},
     "output_type": "execute_result"
    }
   ],
   "source": [
    "#actual target\n",
    "y"
   ]
  },
  {
   "cell_type": "code",
   "execution_count": 39,
   "id": "9291dced",
   "metadata": {},
   "outputs": [
    {
     "data": {
      "text/plain": [
       "array([[0.00288967, 0.00628075, 0.01614884]])"
      ]
     },
     "execution_count": 39,
     "metadata": {},
     "output_type": "execute_result"
    }
   ],
   "source": [
    "#error at last epoch\n",
    "error"
   ]
  },
  {
   "cell_type": "code",
   "execution_count": null,
   "id": "74e17021",
   "metadata": {},
   "outputs": [],
   "source": []
  }
 ],
 "metadata": {
  "kernelspec": {
   "display_name": "Python 3 (ipykernel)",
   "language": "python",
   "name": "python3"
  },
  "language_info": {
   "codemirror_mode": {
    "name": "ipython",
    "version": 3
   },
   "file_extension": ".py",
   "mimetype": "text/x-python",
   "name": "python",
   "nbconvert_exporter": "python",
   "pygments_lexer": "ipython3",
   "version": "3.11.4"
  }
 },
 "nbformat": 4,
 "nbformat_minor": 5
}
